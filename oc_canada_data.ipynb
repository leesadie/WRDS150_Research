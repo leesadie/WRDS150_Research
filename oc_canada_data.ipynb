{
 "cells": [
  {
   "cell_type": "markdown",
   "id": "fe8337bb-5c04-464f-96a0-3a5adf84a790",
   "metadata": {},
   "source": [
    "# Data Analysis: The Chinese Diaspora in Canada"
   ]
  },
  {
   "cell_type": "markdown",
   "id": "636f0286-84c4-41fa-bd57-7a4fac849d13",
   "metadata": {},
   "source": [
    ">## Sadie Lee, WRDS 150"
   ]
  },
  {
   "cell_type": "markdown",
   "id": "d53d2f0f-c977-4b20-92bc-18e5ce00334d",
   "metadata": {},
   "source": [
    "## 1. Overseas Chinese in Canada"
   ]
  },
  {
   "cell_type": "markdown",
   "id": "09df8ec6-d908-432c-9bd4-06f53984dec3",
   "metadata": {},
   "source": [
    "### Loading Relevant Libraries"
   ]
  },
  {
   "cell_type": "code",
   "execution_count": 131,
   "id": "2a64f856-3059-4d59-a39d-425aace0d89c",
   "metadata": {},
   "outputs": [],
   "source": [
    "library(tidyverse)\n",
    "library(tidymodels)\n",
    "library(forcats)\n",
    "library(RColorBrewer)\n",
    "library(repr)\n",
    "library(ggplot2)\n",
    "library(knitr)\n",
    "library(dplyr)\n",
    "options(repr.matrix.max.rows = 6)"
   ]
  },
  {
   "cell_type": "code",
   "execution_count": 4,
   "id": "d666f0d3-2928-4f1d-ae81-8c41821f5246",
   "metadata": {},
   "outputs": [
    {
     "name": "stderr",
     "output_type": "stream",
     "text": [
      "\u001b[1mRows: \u001b[22m\u001b[34m6\u001b[39m \u001b[1mColumns: \u001b[22m\u001b[34m4\u001b[39m\n",
      "\u001b[36m──\u001b[39m \u001b[1mColumn specification\u001b[22m \u001b[36m────────────────────────────────────────────────────────\u001b[39m\n",
      "\u001b[1mDelimiter:\u001b[22m \",\"\n",
      "\u001b[32mdbl\u001b[39m (4): Year, Number_OC, Total_Population, Share_Total_Pop\n",
      "\n",
      "\u001b[36mℹ\u001b[39m Use `spec()` to retrieve the full column specification for this data.\n",
      "\u001b[36mℹ\u001b[39m Specify the column types or set `show_col_types = FALSE` to quiet this message.\n"
     ]
    },
    {
     "data": {
      "text/html": [
       "<table class=\"dataframe\">\n",
       "<caption>A spec_tbl_df: 6 × 4</caption>\n",
       "<thead>\n",
       "\t<tr><th scope=col>Year</th><th scope=col>Number_OC</th><th scope=col>Total_Population</th><th scope=col>Share_Total_Pop</th></tr>\n",
       "\t<tr><th scope=col>&lt;dbl&gt;</th><th scope=col>&lt;dbl&gt;</th><th scope=col>&lt;dbl&gt;</th><th scope=col>&lt;dbl&gt;</th></tr>\n",
       "</thead>\n",
       "<tbody>\n",
       "\t<tr><td>1970</td><td> 118815</td><td>21.37</td><td>0.55</td></tr>\n",
       "\t<tr><td>1980</td><td> 181755</td><td>24.42</td><td>0.74</td></tr>\n",
       "\t<tr><td>1990</td><td> 586645</td><td>27.54</td><td>2.13</td></tr>\n",
       "\t<tr><td>2000</td><td>1094700</td><td>30.59</td><td>3.59</td></tr>\n",
       "\t<tr><td>2010</td><td>1487580</td><td>34.15</td><td>4.36</td></tr>\n",
       "\t<tr><td>2020</td><td>1715775</td><td>37.54</td><td>4.57</td></tr>\n",
       "</tbody>\n",
       "</table>\n"
      ],
      "text/latex": [
       "A spec\\_tbl\\_df: 6 × 4\n",
       "\\begin{tabular}{llll}\n",
       " Year & Number\\_OC & Total\\_Population & Share\\_Total\\_Pop\\\\\n",
       " <dbl> & <dbl> & <dbl> & <dbl>\\\\\n",
       "\\hline\n",
       "\t 1970 &  118815 & 21.37 & 0.55\\\\\n",
       "\t 1980 &  181755 & 24.42 & 0.74\\\\\n",
       "\t 1990 &  586645 & 27.54 & 2.13\\\\\n",
       "\t 2000 & 1094700 & 30.59 & 3.59\\\\\n",
       "\t 2010 & 1487580 & 34.15 & 4.36\\\\\n",
       "\t 2020 & 1715775 & 37.54 & 4.57\\\\\n",
       "\\end{tabular}\n"
      ],
      "text/markdown": [
       "\n",
       "A spec_tbl_df: 6 × 4\n",
       "\n",
       "| Year &lt;dbl&gt; | Number_OC &lt;dbl&gt; | Total_Population &lt;dbl&gt; | Share_Total_Pop &lt;dbl&gt; |\n",
       "|---|---|---|---|\n",
       "| 1970 |  118815 | 21.37 | 0.55 |\n",
       "| 1980 |  181755 | 24.42 | 0.74 |\n",
       "| 1990 |  586645 | 27.54 | 2.13 |\n",
       "| 2000 | 1094700 | 30.59 | 3.59 |\n",
       "| 2010 | 1487580 | 34.15 | 4.36 |\n",
       "| 2020 | 1715775 | 37.54 | 4.57 |\n",
       "\n"
      ],
      "text/plain": [
       "  Year Number_OC Total_Population Share_Total_Pop\n",
       "1 1970  118815   21.37            0.55           \n",
       "2 1980  181755   24.42            0.74           \n",
       "3 1990  586645   27.54            2.13           \n",
       "4 2000 1094700   30.59            3.59           \n",
       "5 2010 1487580   34.15            4.36           \n",
       "6 2020 1715775   37.54            4.57           "
      ]
     },
     "metadata": {},
     "output_type": "display_data"
    }
   ],
   "source": [
    "oc <- read_csv(\"data/oc_canada_data.csv\")\n",
    "oc"
   ]
  },
  {
   "cell_type": "markdown",
   "id": "0473948b-9c3c-42d7-a477-05e92e49d911",
   "metadata": {},
   "source": [
    "## 2. Economic Growth Statistics"
   ]
  },
  {
   "cell_type": "code",
   "execution_count": 49,
   "id": "762eebfe-95e6-4d64-8c82-b8aee12179ac",
   "metadata": {},
   "outputs": [
    {
     "name": "stderr",
     "output_type": "stream",
     "text": [
      "\u001b[1mRows: \u001b[22m\u001b[34m6\u001b[39m \u001b[1mColumns: \u001b[22m\u001b[34m6\u001b[39m\n",
      "\u001b[36m──\u001b[39m \u001b[1mColumn specification\u001b[22m \u001b[36m────────────────────────────────────────────────────────\u001b[39m\n",
      "\u001b[1mDelimiter:\u001b[22m \",\"\n",
      "\u001b[32mdbl\u001b[39m (6): Year, RealGDP_Capita, Population_Share, Trade_Openness, Investment_...\n",
      "\n",
      "\u001b[36mℹ\u001b[39m Use `spec()` to retrieve the full column specification for this data.\n",
      "\u001b[36mℹ\u001b[39m Specify the column types or set `show_col_types = FALSE` to quiet this message.\n"
     ]
    },
    {
     "data": {
      "text/html": [
       "<table class=\"dataframe\">\n",
       "<caption>A spec_tbl_df: 6 × 6</caption>\n",
       "<thead>\n",
       "\t<tr><th scope=col>Year</th><th scope=col>RealGDP_Capita</th><th scope=col>Population_Share</th><th scope=col>Trade_Openness</th><th scope=col>Investment_Rate</th><th scope=col>China_Imports</th></tr>\n",
       "\t<tr><th scope=col>&lt;dbl&gt;</th><th scope=col>&lt;dbl&gt;</th><th scope=col>&lt;dbl&gt;</th><th scope=col>&lt;dbl&gt;</th><th scope=col>&lt;dbl&gt;</th><th scope=col>&lt;dbl&gt;</th></tr>\n",
       "</thead>\n",
       "<tbody>\n",
       "\t<tr><td>1970</td><td> 5527.40</td><td>0.55</td><td>41.63</td><td>29.7</td><td>4.070e+08</td></tr>\n",
       "\t<tr><td>1980</td><td>14979.75</td><td>0.74</td><td>53.50</td><td>28.6</td><td>8.120e+08</td></tr>\n",
       "\t<tr><td>1990</td><td>28760.70</td><td>2.13</td><td>50.18</td><td>25.3</td><td>2.100e+09</td></tr>\n",
       "\t<tr><td>2000</td><td>32546.20</td><td>3.59</td><td>82.77</td><td>22.6</td><td>5.300e+09</td></tr>\n",
       "\t<tr><td>2010</td><td>63778.26</td><td>4.36</td><td>60.21</td><td>26.3</td><td>4.254e+10</td></tr>\n",
       "\t<tr><td>2020</td><td>58006.82</td><td>4.57</td><td>60.78</td><td>24.4</td><td>6.882e+10</td></tr>\n",
       "</tbody>\n",
       "</table>\n"
      ],
      "text/latex": [
       "A spec\\_tbl\\_df: 6 × 6\n",
       "\\begin{tabular}{llllll}\n",
       " Year & RealGDP\\_Capita & Population\\_Share & Trade\\_Openness & Investment\\_Rate & China\\_Imports\\\\\n",
       " <dbl> & <dbl> & <dbl> & <dbl> & <dbl> & <dbl>\\\\\n",
       "\\hline\n",
       "\t 1970 &  5527.40 & 0.55 & 41.63 & 29.7 & 4.070e+08\\\\\n",
       "\t 1980 & 14979.75 & 0.74 & 53.50 & 28.6 & 8.120e+08\\\\\n",
       "\t 1990 & 28760.70 & 2.13 & 50.18 & 25.3 & 2.100e+09\\\\\n",
       "\t 2000 & 32546.20 & 3.59 & 82.77 & 22.6 & 5.300e+09\\\\\n",
       "\t 2010 & 63778.26 & 4.36 & 60.21 & 26.3 & 4.254e+10\\\\\n",
       "\t 2020 & 58006.82 & 4.57 & 60.78 & 24.4 & 6.882e+10\\\\\n",
       "\\end{tabular}\n"
      ],
      "text/markdown": [
       "\n",
       "A spec_tbl_df: 6 × 6\n",
       "\n",
       "| Year &lt;dbl&gt; | RealGDP_Capita &lt;dbl&gt; | Population_Share &lt;dbl&gt; | Trade_Openness &lt;dbl&gt; | Investment_Rate &lt;dbl&gt; | China_Imports &lt;dbl&gt; |\n",
       "|---|---|---|---|---|---|\n",
       "| 1970 |  5527.40 | 0.55 | 41.63 | 29.7 | 4.070e+08 |\n",
       "| 1980 | 14979.75 | 0.74 | 53.50 | 28.6 | 8.120e+08 |\n",
       "| 1990 | 28760.70 | 2.13 | 50.18 | 25.3 | 2.100e+09 |\n",
       "| 2000 | 32546.20 | 3.59 | 82.77 | 22.6 | 5.300e+09 |\n",
       "| 2010 | 63778.26 | 4.36 | 60.21 | 26.3 | 4.254e+10 |\n",
       "| 2020 | 58006.82 | 4.57 | 60.78 | 24.4 | 6.882e+10 |\n",
       "\n"
      ],
      "text/plain": [
       "  Year RealGDP_Capita Population_Share Trade_Openness Investment_Rate\n",
       "1 1970  5527.40       0.55             41.63          29.7           \n",
       "2 1980 14979.75       0.74             53.50          28.6           \n",
       "3 1990 28760.70       2.13             50.18          25.3           \n",
       "4 2000 32546.20       3.59             82.77          22.6           \n",
       "5 2010 63778.26       4.36             60.21          26.3           \n",
       "6 2020 58006.82       4.57             60.78          24.4           \n",
       "  China_Imports\n",
       "1 4.070e+08    \n",
       "2 8.120e+08    \n",
       "3 2.100e+09    \n",
       "4 5.300e+09    \n",
       "5 4.254e+10    \n",
       "6 6.882e+10    "
      ]
     },
     "metadata": {},
     "output_type": "display_data"
    }
   ],
   "source": [
    "oc_stats <- read_csv(\"data/oc_canada_econ_data3.csv\")\n",
    "oc_stats"
   ]
  },
  {
   "cell_type": "markdown",
   "id": "9cc6ef08-a7ce-4332-a7b2-1448b1364681",
   "metadata": {},
   "source": [
    "### Regressions - Real GDP Per Capita"
   ]
  },
  {
   "cell_type": "code",
   "execution_count": 95,
   "id": "39e0b12c-34a8-46d0-88e8-5bd63aea7df3",
   "metadata": {},
   "outputs": [
    {
     "data": {
      "text/html": [
       "0.947153457113881"
      ],
      "text/latex": [
       "0.947153457113881"
      ],
      "text/markdown": [
       "0.947153457113881"
      ],
      "text/plain": [
       "[1] 0.9471535"
      ]
     },
     "metadata": {},
     "output_type": "display_data"
    }
   ],
   "source": [
    "cor(oc_stats$Population_Share, oc_stats$RealGDP_Capita)"
   ]
  },
  {
   "cell_type": "code",
   "execution_count": 99,
   "id": "1db55de6-06ba-4e21-bd0c-b2e565691351",
   "metadata": {},
   "outputs": [
    {
     "name": "stderr",
     "output_type": "stream",
     "text": [
      "`geom_smooth()` using formula 'y ~ x'\n",
      "\n"
     ]
    },
    {
     "data": {
      "image/png": "[encoded data removed]",
      "text/plain": [
       "plot without title"
      ]
     },
     "metadata": {
      "image/png": {
       "height": 420,
       "width": 420
      }
     },
     "output_type": "display_data"
    }
   ],
   "source": [
    "oc_stats |>\n",
    "    ggplot(aes(x = sqrt(Population_Share), y = sqrt(RealGDP_Capita))) +\n",
    "    geom_point(colour = \"red\") +\n",
    "    geom_smooth(method = \"lm\", fill = NA)"
   ]
  },
  {
   "cell_type": "code",
   "execution_count": 102,
   "id": "41cd99f1-5fff-4af9-9101-7b63a4826875",
   "metadata": {},
   "outputs": [
    {
     "data": {
      "text/html": [
       "<style>\n",
       ".dl-inline {width: auto; margin:0; padding: 0}\n",
       ".dl-inline>dt, .dl-inline>dd {float: none; width: auto; display: inline-block}\n",
       ".dl-inline>dt::after {content: \":\\0020\"; padding-right: .5ex}\n",
       ".dl-inline>dt:not(:first-of-type) {padding-left: .5ex}\n",
       "</style><dl class=dl-inline><dt>(Intercept)</dt><dd>0.0398682012975353</dd><dt>sqrt(RealGDP_Capita)</dt><dd>0.00859767421599273</dd></dl>\n"
      ],
      "text/latex": [
       "\\begin{description*}\n",
       "\\item[(Intercept)] 0.0398682012975353\n",
       "\\item[sqrt(RealGDP\\textbackslash{}\\_Capita)] 0.00859767421599273\n",
       "\\end{description*}\n"
      ],
      "text/markdown": [
       "(Intercept)\n",
       ":   0.0398682012975353sqrt(RealGDP_Capita)\n",
       ":   0.00859767421599273\n",
       "\n"
      ],
      "text/plain": [
       "         (Intercept) sqrt(RealGDP_Capita) \n",
       "         0.039868201          0.008597674 "
      ]
     },
     "metadata": {},
     "output_type": "display_data"
    },
    {
     "data": {
      "text/plain": [
       "\n",
       "Call:\n",
       "lm(formula = sqrt(Population_Share) ~ sqrt(RealGDP_Capita), data = oc_stats)\n",
       "\n",
       "Residuals:\n",
       "       1        2        3        4        5        6 \n",
       " 0.06254 -0.23192 -0.03849  0.30379 -0.12309  0.02717 \n",
       "\n",
       "Coefficients:\n",
       "                     Estimate Std. Error t value Pr(>|t|)   \n",
       "(Intercept)          0.039868   0.246904   0.161  0.87955   \n",
       "sqrt(RealGDP_Capita) 0.008598   0.001340   6.415  0.00304 **\n",
       "---\n",
       "Signif. codes:  0 ‘***’ 0.001 ‘**’ 0.01 ‘*’ 0.05 ‘.’ 0.1 ‘ ’ 1\n",
       "\n",
       "Residual standard error: 0.2045 on 4 degrees of freedom\n",
       "Multiple R-squared:  0.9114,\tAdjusted R-squared:  0.8892 \n",
       "F-statistic: 41.15 on 1 and 4 DF,  p-value: 0.003035\n"
      ]
     },
     "metadata": {},
     "output_type": "display_data"
    }
   ],
   "source": [
    "lmodel <- lm(sqrt(Population_Share) ~ sqrt(RealGDP_Capita), data = oc_stats)\n",
    "lmodel$coefficients\n",
    "\n",
    "summary(lmodel)"
   ]
  },
  {
   "cell_type": "markdown",
   "id": "a4fbb8f3-7c1a-4722-8a1c-10837d6ea1e9",
   "metadata": {},
   "source": [
    "### Regressions - Trade Openness"
   ]
  },
  {
   "cell_type": "code",
   "execution_count": 103,
   "id": "f8fd5eec-5f6b-47e4-8368-e1cec5718654",
   "metadata": {},
   "outputs": [
    {
     "data": {
      "text/html": [
       "0.639407680078354"
      ],
      "text/latex": [
       "0.639407680078354"
      ],
      "text/markdown": [
       "0.639407680078354"
      ],
      "text/plain": [
       "[1] 0.6394077"
      ]
     },
     "metadata": {},
     "output_type": "display_data"
    }
   ],
   "source": [
    "cor(oc_stats$Population_Share, oc_stats$Trade_Openness)"
   ]
  },
  {
   "cell_type": "code",
   "execution_count": 104,
   "id": "a787e195-87df-419b-a460-1ff4b021e401",
   "metadata": {},
   "outputs": [
    {
     "name": "stderr",
     "output_type": "stream",
     "text": [
      "`geom_smooth()` using formula 'y ~ x'\n",
      "\n"
     ]
    },
    {
     "data": {
      "image/png": "[encoded data removed]",
      "text/plain": [
       "plot without title"
      ]
     },
     "metadata": {
      "image/png": {
       "height": 420,
       "width": 420
      }
     },
     "output_type": "display_data"
    }
   ],
   "source": [
    "oc_stats |>\n",
    "    ggplot(aes(x = sqrt(Population_Share), y = sqrt(Trade_Openness))) +\n",
    "    geom_point(colour = \"red\") +\n",
    "    geom_smooth(method = \"lm\", fill = NA)"
   ]
  },
  {
   "cell_type": "code",
   "execution_count": 105,
   "id": "6b0ab9ff-f5a4-4199-915c-e23c830e2f38",
   "metadata": {},
   "outputs": [
    {
     "data": {
      "text/html": [
       "<style>\n",
       ".dl-inline {width: auto; margin:0; padding: 0}\n",
       ".dl-inline>dt, .dl-inline>dd {float: none; width: auto; display: inline-block}\n",
       ".dl-inline>dt::after {content: \":\\0020\"; padding-right: .5ex}\n",
       ".dl-inline>dt:not(:first-of-type) {padding-left: .5ex}\n",
       "</style><dl class=dl-inline><dt>(Intercept)</dt><dd>-2.07358630777567</dd><dt>sqrt(Trade_Openness)</dt><dd>0.475199707955855</dd></dl>\n"
      ],
      "text/latex": [
       "\\begin{description*}\n",
       "\\item[(Intercept)] -2.07358630777567\n",
       "\\item[sqrt(Trade\\textbackslash{}\\_Openness)] 0.475199707955855\n",
       "\\end{description*}\n"
      ],
      "text/markdown": [
       "(Intercept)\n",
       ":   -2.07358630777567sqrt(Trade_Openness)\n",
       ":   0.475199707955855\n",
       "\n"
      ],
      "text/plain": [
       "         (Intercept) sqrt(Trade_Openness) \n",
       "          -2.0735863            0.4751997 "
      ]
     },
     "metadata": {},
     "output_type": "display_data"
    },
    {
     "data": {
      "text/plain": [
       "\n",
       "Call:\n",
       "lm(formula = sqrt(Population_Share) ~ sqrt(Trade_Openness), data = oc_stats)\n",
       "\n",
       "Residuals:\n",
       "      1       2       3       4       5       6 \n",
       "-0.2508 -0.5420  0.1668 -0.3550  0.4743  0.5066 \n",
       "\n",
       "Coefficients:\n",
       "                     Estimate Std. Error t value Pr(>|t|)\n",
       "(Intercept)           -2.0736     1.9062  -1.088    0.338\n",
       "sqrt(Trade_Openness)   0.4752     0.2499   1.902    0.130\n",
       "\n",
       "Residual standard error: 0.498 on 4 degrees of freedom\n",
       "Multiple R-squared:  0.4748,\tAdjusted R-squared:  0.3435 \n",
       "F-statistic: 3.616 on 1 and 4 DF,  p-value: 0.13\n"
      ]
     },
     "metadata": {},
     "output_type": "display_data"
    }
   ],
   "source": [
    "lmodel <- lm(sqrt(Population_Share) ~ sqrt(Trade_Openness), data = oc_stats)\n",
    "lmodel$coefficients\n",
    "\n",
    "summary(lmodel)"
   ]
  },
  {
   "cell_type": "markdown",
   "id": "3af52dea-6500-4edd-8015-da90b1257042",
   "metadata": {},
   "source": [
    "### Regressions - Investment Rate"
   ]
  },
  {
   "cell_type": "code",
   "execution_count": 106,
   "id": "9e9f5491-b85f-455d-a220-2823d1bb9db5",
   "metadata": {},
   "outputs": [
    {
     "data": {
      "text/html": [
       "-0.77038413652713"
      ],
      "text/latex": [
       "-0.77038413652713"
      ],
      "text/markdown": [
       "-0.77038413652713"
      ],
      "text/plain": [
       "[1] -0.7703841"
      ]
     },
     "metadata": {},
     "output_type": "display_data"
    }
   ],
   "source": [
    "cor(oc_stats$Population_Share, oc_stats$Investment_Rate)"
   ]
  },
  {
   "cell_type": "code",
   "execution_count": 107,
   "id": "f6541173-6937-41fa-a77b-82cd879e8a56",
   "metadata": {},
   "outputs": [
    {
     "name": "stderr",
     "output_type": "stream",
     "text": [
      "`geom_smooth()` using formula 'y ~ x'\n",
      "\n"
     ]
    },
    {
     "data": {
      "image/png": "[encoded data removed]",
      "text/plain": [
       "plot without title"
      ]
     },
     "metadata": {
      "image/png": {
       "height": 420,
       "width": 420
      }
     },
     "output_type": "display_data"
    }
   ],
   "source": [
    "oc_stats |>\n",
    "    ggplot(aes(x = sqrt(Population_Share), y = sqrt(Investment_Rate))) +\n",
    "    geom_point(colour = \"red\") +\n",
    "    geom_smooth(method = \"lm\", fill = NA)"
   ]
  },
  {
   "cell_type": "code",
   "execution_count": 108,
   "id": "7b029e45-375f-49ce-aab2-3c6fd3468c64",
   "metadata": {},
   "outputs": [
    {
     "data": {
      "text/html": [
       "<style>\n",
       ".dl-inline {width: auto; margin:0; padding: 0}\n",
       ".dl-inline>dt, .dl-inline>dd {float: none; width: auto; display: inline-block}\n",
       ".dl-inline>dt::after {content: \":\\0020\"; padding-right: .5ex}\n",
       ".dl-inline>dt:not(:first-of-type) {padding-left: .5ex}\n",
       "</style><dl class=dl-inline><dt>(Intercept)</dt><dd>11.3738326594393</dd><dt>sqrt(Investment_Rate)</dt><dd>-1.92698484820449</dd></dl>\n"
      ],
      "text/latex": [
       "\\begin{description*}\n",
       "\\item[(Intercept)] 11.3738326594393\n",
       "\\item[sqrt(Investment\\textbackslash{}\\_Rate)] -1.92698484820449\n",
       "\\end{description*}\n"
      ],
      "text/markdown": [
       "(Intercept)\n",
       ":   11.3738326594393sqrt(Investment_Rate)\n",
       ":   -1.92698484820449\n",
       "\n"
      ],
      "text/plain": [
       "          (Intercept) sqrt(Investment_Rate) \n",
       "            11.373833             -1.926985 "
      ]
     },
     "metadata": {},
     "output_type": "display_data"
    },
    {
     "data": {
      "text/plain": [
       "\n",
       "Call:\n",
       "lm(formula = sqrt(Population_Share) ~ sqrt(Investment_Rate), \n",
       "    data = oc_stats)\n",
       "\n",
       "Residuals:\n",
       "      1       2       3       4       5       6 \n",
       "-0.1306 -0.2083 -0.2218 -0.3183  0.5965  0.2825 \n",
       "\n",
       "Coefficients:\n",
       "                      Estimate Std. Error t value Pr(>|t|)  \n",
       "(Intercept)            11.3738     3.5545   3.200   0.0329 *\n",
       "sqrt(Investment_Rate)  -1.9270     0.6951  -2.772   0.0502 .\n",
       "---\n",
       "Signif. codes:  0 ‘***’ 0.001 ‘**’ 0.01 ‘*’ 0.05 ‘.’ 0.1 ‘ ’ 1\n",
       "\n",
       "Residual standard error: 0.4021 on 4 degrees of freedom\n",
       "Multiple R-squared:  0.6577,\tAdjusted R-squared:  0.5721 \n",
       "F-statistic: 7.686 on 1 and 4 DF,  p-value: 0.05021\n"
      ]
     },
     "metadata": {},
     "output_type": "display_data"
    }
   ],
   "source": [
    "lmodel <- lm(sqrt(Population_Share) ~ sqrt(Investment_Rate), data = oc_stats)\n",
    "lmodel$coefficients\n",
    "\n",
    "summary(lmodel)"
   ]
  },
  {
   "cell_type": "markdown",
   "id": "e1c30ab1-473d-460b-b7bb-a64d0eb915c7",
   "metadata": {},
   "source": [
    "### Regressions - Imports of Chinese Origin"
   ]
  },
  {
   "cell_type": "code",
   "execution_count": 110,
   "id": "88517953-c158-47ee-a82b-62235263140a",
   "metadata": {},
   "outputs": [
    {
     "data": {
      "text/html": [
       "0.799318089102566"
      ],
      "text/latex": [
       "0.799318089102566"
      ],
      "text/markdown": [
       "0.799318089102566"
      ],
      "text/plain": [
       "[1] 0.7993181"
      ]
     },
     "metadata": {},
     "output_type": "display_data"
    }
   ],
   "source": [
    "cor(oc_stats$Population_Share, oc_stats$China_Imports)"
   ]
  },
  {
   "cell_type": "code",
   "execution_count": 111,
   "id": "89818968-2a2d-41e5-b417-0a5542a14eb6",
   "metadata": {},
   "outputs": [
    {
     "name": "stderr",
     "output_type": "stream",
     "text": [
      "`geom_smooth()` using formula 'y ~ x'\n",
      "\n"
     ]
    },
    {
     "data": {
      "image/png": "[encoded data removed]",
      "text/plain": [
       "plot without title"
      ]
     },
     "metadata": {
      "image/png": {
       "height": 420,
       "width": 420
      }
     },
     "output_type": "display_data"
    }
   ],
   "source": [
    "oc_stats |>\n",
    "    ggplot(aes(x = sqrt(Population_Share), y = sqrt(China_Imports))) +\n",
    "    geom_point(colour = \"red\") +\n",
    "    geom_smooth(method = \"lm\", fill = NA)"
   ]
  },
  {
   "cell_type": "code",
   "execution_count": 112,
   "id": "4f7882ed-8aff-4ec9-a440-53d20a87d92a",
   "metadata": {},
   "outputs": [
    {
     "data": {
      "text/html": [
       "<style>\n",
       ".dl-inline {width: auto; margin:0; padding: 0}\n",
       ".dl-inline>dt, .dl-inline>dd {float: none; width: auto; display: inline-block}\n",
       ".dl-inline>dt::after {content: \":\\0020\"; padding-right: .5ex}\n",
       ".dl-inline>dt:not(:first-of-type) {padding-left: .5ex}\n",
       "</style><dl class=dl-inline><dt>(Intercept)</dt><dd>1.00094192505673</dd><dt>sqrt(China_Imports)</dt><dd>4.99493023311208e-06</dd></dl>\n"
      ],
      "text/latex": [
       "\\begin{description*}\n",
       "\\item[(Intercept)] 1.00094192505673\n",
       "\\item[sqrt(China\\textbackslash{}\\_Imports)] 4.99493023311208e-06\n",
       "\\end{description*}\n"
      ],
      "text/markdown": [
       "(Intercept)\n",
       ":   1.00094192505673sqrt(China_Imports)\n",
       ":   4.99493023311208e-06\n",
       "\n"
      ],
      "text/plain": [
       "        (Intercept) sqrt(China_Imports) \n",
       "       1.000942e+00        4.994930e-06 "
      ]
     },
     "metadata": {},
     "output_type": "display_data"
    },
    {
     "data": {
      "text/plain": [
       "\n",
       "Call:\n",
       "lm(formula = sqrt(Population_Share) ~ sqrt(China_Imports), data = oc_stats)\n",
       "\n",
       "Residuals:\n",
       "      1       2       3       4       5       6 \n",
       "-0.3601 -0.2830  0.2296  0.5302  0.0569 -0.1735 \n",
       "\n",
       "Coefficients:\n",
       "                     Estimate Std. Error t value Pr(>|t|)  \n",
       "(Intercept)         1.001e+00  2.342e-01   4.274   0.0129 *\n",
       "sqrt(China_Imports) 4.995e-06  1.656e-06   3.016   0.0393 *\n",
       "---\n",
       "Signif. codes:  0 ‘***’ 0.001 ‘**’ 0.01 ‘*’ 0.05 ‘.’ 0.1 ‘ ’ 1\n",
       "\n",
       "Residual standard error: 0.3798 on 4 degrees of freedom\n",
       "Multiple R-squared:  0.6946,\tAdjusted R-squared:  0.6182 \n",
       "F-statistic: 9.097 on 1 and 4 DF,  p-value: 0.03931\n"
      ]
     },
     "metadata": {},
     "output_type": "display_data"
    }
   ],
   "source": [
    "lmodel <- lm(sqrt(Population_Share) ~ sqrt(China_Imports), data = oc_stats)\n",
    "lmodel$coefficients\n",
    "\n",
    "summary(lmodel)"
   ]
  },
  {
   "cell_type": "markdown",
   "id": "d7c4bd0a-c58c-415b-a076-e3e08e6a9245",
   "metadata": {},
   "source": [
    "### Cross-Section Regressions - GDP Growth (1970-2020)"
   ]
  },
  {
   "cell_type": "code",
   "execution_count": 123,
   "id": "51cb5d92-9dc3-4565-a18e-3f7c867021e3",
   "metadata": {},
   "outputs": [
    {
     "name": "stderr",
     "output_type": "stream",
     "text": [
      "\u001b[1m\u001b[22mJoining, by = c(\"Year\", \"RealGDP_Capita\")\n"
     ]
    },
    {
     "data": {
      "text/html": [
       "<table class=\"dataframe\">\n",
       "<caption>A tibble: 2 × 2</caption>\n",
       "<thead>\n",
       "\t<tr><th scope=col>Year</th><th scope=col>RealGDP_Capita</th></tr>\n",
       "\t<tr><th scope=col>&lt;dbl&gt;</th><th scope=col>&lt;dbl&gt;</th></tr>\n",
       "</thead>\n",
       "<tbody>\n",
       "\t<tr><td>1970</td><td> 5527.40</td></tr>\n",
       "\t<tr><td>2020</td><td>58006.82</td></tr>\n",
       "</tbody>\n",
       "</table>\n"
      ],
      "text/latex": [
       "A tibble: 2 × 2\n",
       "\\begin{tabular}{ll}\n",
       " Year & RealGDP\\_Capita\\\\\n",
       " <dbl> & <dbl>\\\\\n",
       "\\hline\n",
       "\t 1970 &  5527.40\\\\\n",
       "\t 2020 & 58006.82\\\\\n",
       "\\end{tabular}\n"
      ],
      "text/markdown": [
       "\n",
       "A tibble: 2 × 2\n",
       "\n",
       "| Year &lt;dbl&gt; | RealGDP_Capita &lt;dbl&gt; |\n",
       "|---|---|\n",
       "| 1970 |  5527.40 |\n",
       "| 2020 | 58006.82 |\n",
       "\n"
      ],
      "text/plain": [
       "  Year RealGDP_Capita\n",
       "1 1970  5527.40      \n",
       "2 2020 58006.82      "
      ]
     },
     "metadata": {},
     "output_type": "display_data"
    }
   ],
   "source": [
    "gdp_cross <- oc_stats |>\n",
    "             filter(Year == 1970) |>\n",
    "             select(Year, RealGDP_Capita)\n",
    "gdp_cross2 <- oc_stats |>\n",
    "             filter(Year == 2020) |>\n",
    "             select(Year, RealGDP_Capita)\n",
    "full_join(gdp_cross, gdp_cross2)"
   ]
  },
  {
   "cell_type": "code",
   "execution_count": 124,
   "id": "5e0551a4-1f74-4017-9b18-1e6221bb8688",
   "metadata": {},
   "outputs": [
    {
     "data": {
      "text/html": [
       "<style>\n",
       ".dl-inline {width: auto; margin:0; padding: 0}\n",
       ".dl-inline>dt, .dl-inline>dd {float: none; width: auto; display: inline-block}\n",
       ".dl-inline>dt::after {content: \":\\0020\"; padding-right: .5ex}\n",
       ".dl-inline>dt:not(:first-of-type) {padding-left: .5ex}\n",
       "</style><dl class=dl-inline><dt>(Intercept)</dt><dd>44.1508564855258</dd><dt>sqrt(RealGDP_Capita)</dt><dd>0.00296593983061396</dd></dl>\n"
      ],
      "text/latex": [
       "\\begin{description*}\n",
       "\\item[(Intercept)] 44.1508564855258\n",
       "\\item[sqrt(RealGDP\\textbackslash{}\\_Capita)] 0.00296593983061396\n",
       "\\end{description*}\n"
      ],
      "text/markdown": [
       "(Intercept)\n",
       ":   44.1508564855258sqrt(RealGDP_Capita)\n",
       ":   0.00296593983061396\n",
       "\n"
      ],
      "text/plain": [
       "         (Intercept) sqrt(RealGDP_Capita) \n",
       "         44.15085649           0.00296594 "
      ]
     },
     "metadata": {},
     "output_type": "display_data"
    },
    {
     "data": {
      "text/plain": [
       "\n",
       "Call:\n",
       "lm(formula = sqrt(Year) ~ sqrt(RealGDP_Capita), data = oc_stats)\n",
       "\n",
       "Residuals:\n",
       "       1        2        3        4        5        6 \n",
       " 0.01332 -0.01667 -0.04443  0.03543 -0.06686  0.07922 \n",
       "\n",
       "Coefficients:\n",
       "                      Estimate Std. Error t value Pr(>|t|)    \n",
       "(Intercept)          4.415e+01  7.250e-02 608.959 4.36e-11 ***\n",
       "sqrt(RealGDP_Capita) 2.966e-03  3.936e-04   7.536  0.00166 ** \n",
       "---\n",
       "Signif. codes:  0 ‘***’ 0.001 ‘**’ 0.01 ‘*’ 0.05 ‘.’ 0.1 ‘ ’ 1\n",
       "\n",
       "Residual standard error: 0.06006 on 4 degrees of freedom\n",
       "Multiple R-squared:  0.9342,\tAdjusted R-squared:  0.9177 \n",
       "F-statistic: 56.79 on 1 and 4 DF,  p-value: 0.001661\n"
      ]
     },
     "metadata": {},
     "output_type": "display_data"
    }
   ],
   "source": [
    "cross_lm_model <- lm(sqrt(Year) ~ sqrt(RealGDP_Capita), data = oc_stats)\n",
    "cross_lm_model$coefficients\n",
    "\n",
    "summary(cross_lm_model)"
   ]
  },
  {
   "cell_type": "code",
   "execution_count": 54,
   "id": "5d6b2421-3251-4723-ac12-5001015d092e",
   "metadata": {},
   "outputs": [
    {
     "data": {
      "text/html": [
       "<table class=\"dataframe\">\n",
       "<caption>A data.frame: 1 × 1</caption>\n",
       "<thead>\n",
       "\t<tr><th scope=col>RealGDP_Capita</th></tr>\n",
       "\t<tr><th scope=col>&lt;dbl&gt;</th></tr>\n",
       "</thead>\n",
       "<tbody>\n",
       "\t<tr><td>317.6711</td></tr>\n",
       "</tbody>\n",
       "</table>\n"
      ],
      "text/latex": [
       "A data.frame: 1 × 1\n",
       "\\begin{tabular}{l}\n",
       " RealGDP\\_Capita\\\\\n",
       " <dbl>\\\\\n",
       "\\hline\n",
       "\t 317.6711\\\\\n",
       "\\end{tabular}\n"
      ],
      "text/markdown": [
       "\n",
       "A data.frame: 1 × 1\n",
       "\n",
       "| RealGDP_Capita &lt;dbl&gt; |\n",
       "|---|\n",
       "| 317.6711 |\n",
       "\n"
      ],
      "text/plain": [
       "  RealGDP_Capita\n",
       "1 317.6711      "
      ]
     },
     "metadata": {},
     "output_type": "display_data"
    }
   ],
   "source": [
    "gdp_1970 <- oc_stats |>\n",
    "            filter(Year == 1970) |>\n",
    "            select(RealGDP_Capita)\n",
    "gdp_2020 <- oc_stats |>\n",
    "            filter(Year == 2020) |>\n",
    "            select(RealGDP_Capita)\n",
    "gdp_growth <- ((gdp_1970 + gdp_2020)/2)/100\n",
    "gdp_growth"
   ]
  },
  {
   "cell_type": "markdown",
   "id": "25be99f3-8e4c-4909-9f11-d206b0bf9775",
   "metadata": {},
   "source": [
    "### Cross-Section Regressions - Trade Openness (1970-2020)"
   ]
  },
  {
   "cell_type": "code",
   "execution_count": 125,
   "id": "f3bd2159-abce-4982-8f59-dd6de0b1d0f7",
   "metadata": {},
   "outputs": [
    {
     "name": "stderr",
     "output_type": "stream",
     "text": [
      "\u001b[1m\u001b[22mJoining, by = c(\"Year\", \"Trade_Openness\")\n"
     ]
    },
    {
     "data": {
      "text/html": [
       "<table class=\"dataframe\">\n",
       "<caption>A tibble: 2 × 2</caption>\n",
       "<thead>\n",
       "\t<tr><th scope=col>Year</th><th scope=col>Trade_Openness</th></tr>\n",
       "\t<tr><th scope=col>&lt;dbl&gt;</th><th scope=col>&lt;dbl&gt;</th></tr>\n",
       "</thead>\n",
       "<tbody>\n",
       "\t<tr><td>1970</td><td>41.63</td></tr>\n",
       "\t<tr><td>2020</td><td>60.78</td></tr>\n",
       "</tbody>\n",
       "</table>\n"
      ],
      "text/latex": [
       "A tibble: 2 × 2\n",
       "\\begin{tabular}{ll}\n",
       " Year & Trade\\_Openness\\\\\n",
       " <dbl> & <dbl>\\\\\n",
       "\\hline\n",
       "\t 1970 & 41.63\\\\\n",
       "\t 2020 & 60.78\\\\\n",
       "\\end{tabular}\n"
      ],
      "text/markdown": [
       "\n",
       "A tibble: 2 × 2\n",
       "\n",
       "| Year &lt;dbl&gt; | Trade_Openness &lt;dbl&gt; |\n",
       "|---|---|\n",
       "| 1970 | 41.63 |\n",
       "| 2020 | 60.78 |\n",
       "\n"
      ],
      "text/plain": [
       "  Year Trade_Openness\n",
       "1 1970 41.63         \n",
       "2 2020 60.78         "
      ]
     },
     "metadata": {},
     "output_type": "display_data"
    }
   ],
   "source": [
    "to_cross <- oc_stats |>\n",
    "             filter(Year == 1970) |>\n",
    "             select(Year, Trade_Openness)\n",
    "to_cross2 <- oc_stats |>\n",
    "             filter(Year == 2020) |>\n",
    "             select(Year, Trade_Openness)\n",
    "full_join(to_cross, to_cross2)"
   ]
  },
  {
   "cell_type": "code",
   "execution_count": 126,
   "id": "e5f4de1d-e348-487f-9fe1-40132f599f32",
   "metadata": {},
   "outputs": [
    {
     "data": {
      "text/html": [
       "<style>\n",
       ".dl-inline {width: auto; margin:0; padding: 0}\n",
       ".dl-inline>dt, .dl-inline>dd {float: none; width: auto; display: inline-block}\n",
       ".dl-inline>dt::after {content: \":\\0020\"; padding-right: .5ex}\n",
       ".dl-inline>dt:not(:first-of-type) {padding-left: .5ex}\n",
       "</style><dl class=dl-inline><dt>(Intercept)</dt><dd>43.5871901333053</dd><dt>sqrt(Trade_Openness)</dt><dd>0.142118866557116</dd></dl>\n"
      ],
      "text/latex": [
       "\\begin{description*}\n",
       "\\item[(Intercept)] 43.5871901333053\n",
       "\\item[sqrt(Trade\\textbackslash{}\\_Openness)] 0.142118866557116\n",
       "\\end{description*}\n"
      ],
      "text/markdown": [
       "(Intercept)\n",
       ":   43.5871901333053sqrt(Trade_Openness)\n",
       ":   0.142118866557116\n",
       "\n"
      ],
      "text/plain": [
       "         (Intercept) sqrt(Trade_Openness) \n",
       "          43.5871901            0.1421189 "
      ]
     },
     "metadata": {},
     "output_type": "display_data"
    },
    {
     "data": {
      "text/plain": [
       "\n",
       "Call:\n",
       "lm(formula = sqrt(Year) ~ sqrt(Trade_Openness), data = oc_stats)\n",
       "\n",
       "Residuals:\n",
       "       1        2        3        4        5        6 \n",
       "-0.11948 -0.12951  0.01549 -0.15880  0.14306  0.24924 \n",
       "\n",
       "Coefficients:\n",
       "                     Estimate Std. Error t value Pr(>|t|)    \n",
       "(Intercept)          43.58719    0.71372  61.071 4.31e-07 ***\n",
       "sqrt(Trade_Openness)  0.14212    0.09357   1.519    0.203    \n",
       "---\n",
       "Signif. codes:  0 ‘***’ 0.001 ‘**’ 0.01 ‘*’ 0.05 ‘.’ 0.1 ‘ ’ 1\n",
       "\n",
       "Residual standard error: 0.1865 on 4 degrees of freedom\n",
       "Multiple R-squared:  0.3658,\tAdjusted R-squared:  0.2072 \n",
       "F-statistic: 2.307 on 1 and 4 DF,  p-value: 0.2034\n"
      ]
     },
     "metadata": {},
     "output_type": "display_data"
    }
   ],
   "source": [
    "cross_lm_model <- lm(sqrt(Year) ~ sqrt(Trade_Openness), data = oc_stats)\n",
    "cross_lm_model$coefficients\n",
    "\n",
    "summary(cross_lm_model)"
   ]
  },
  {
   "cell_type": "code",
   "execution_count": 55,
   "id": "bd09cb05-a8cd-429c-9cd0-4563954076e0",
   "metadata": {},
   "outputs": [
    {
     "data": {
      "text/html": [
       "<table class=\"dataframe\">\n",
       "<caption>A data.frame: 1 × 1</caption>\n",
       "<thead>\n",
       "\t<tr><th scope=col>Trade_Openness</th></tr>\n",
       "\t<tr><th scope=col>&lt;dbl&gt;</th></tr>\n",
       "</thead>\n",
       "<tbody>\n",
       "\t<tr><td>0.51205</td></tr>\n",
       "</tbody>\n",
       "</table>\n"
      ],
      "text/latex": [
       "A data.frame: 1 × 1\n",
       "\\begin{tabular}{l}\n",
       " Trade\\_Openness\\\\\n",
       " <dbl>\\\\\n",
       "\\hline\n",
       "\t 0.51205\\\\\n",
       "\\end{tabular}\n"
      ],
      "text/markdown": [
       "\n",
       "A data.frame: 1 × 1\n",
       "\n",
       "| Trade_Openness &lt;dbl&gt; |\n",
       "|---|\n",
       "| 0.51205 |\n",
       "\n"
      ],
      "text/plain": [
       "  Trade_Openness\n",
       "1 0.51205       "
      ]
     },
     "metadata": {},
     "output_type": "display_data"
    }
   ],
   "source": [
    "to_1970 <- oc_stats |>\n",
    "           filter(Year == 1970) |>\n",
    "           select(Trade_Openness)\n",
    "to_2020 <- oc_stats |>\n",
    "           filter(Year == 2020) |>\n",
    "           select(Trade_Openness)\n",
    "trade_openness_growth <- ((to_1970 + to_2020)/2)/100\n",
    "trade_openness_growth"
   ]
  },
  {
   "cell_type": "markdown",
   "id": "a843555f-3e0b-4ad1-bfd7-bc86d8d40ab7",
   "metadata": {},
   "source": [
    "### Cross-Section Regressions - Investment Rate (1970-2020)"
   ]
  },
  {
   "cell_type": "code",
   "execution_count": 127,
   "id": "c4800304-d642-4f4a-b98d-d5b81177e173",
   "metadata": {},
   "outputs": [
    {
     "name": "stderr",
     "output_type": "stream",
     "text": [
      "\u001b[1m\u001b[22mJoining, by = c(\"Year\", \"Investment_Rate\")\n"
     ]
    },
    {
     "data": {
      "text/html": [
       "<table class=\"dataframe\">\n",
       "<caption>A tibble: 2 × 2</caption>\n",
       "<thead>\n",
       "\t<tr><th scope=col>Year</th><th scope=col>Investment_Rate</th></tr>\n",
       "\t<tr><th scope=col>&lt;dbl&gt;</th><th scope=col>&lt;dbl&gt;</th></tr>\n",
       "</thead>\n",
       "<tbody>\n",
       "\t<tr><td>1970</td><td>29.7</td></tr>\n",
       "\t<tr><td>2020</td><td>24.4</td></tr>\n",
       "</tbody>\n",
       "</table>\n"
      ],
      "text/latex": [
       "A tibble: 2 × 2\n",
       "\\begin{tabular}{ll}\n",
       " Year & Investment\\_Rate\\\\\n",
       " <dbl> & <dbl>\\\\\n",
       "\\hline\n",
       "\t 1970 & 29.7\\\\\n",
       "\t 2020 & 24.4\\\\\n",
       "\\end{tabular}\n"
      ],
      "text/markdown": [
       "\n",
       "A tibble: 2 × 2\n",
       "\n",
       "| Year &lt;dbl&gt; | Investment_Rate &lt;dbl&gt; |\n",
       "|---|---|\n",
       "| 1970 | 29.7 |\n",
       "| 2020 | 24.4 |\n",
       "\n"
      ],
      "text/plain": [
       "  Year Investment_Rate\n",
       "1 1970 29.7           \n",
       "2 2020 24.4           "
      ]
     },
     "metadata": {},
     "output_type": "display_data"
    }
   ],
   "source": [
    "invest_cross <- oc_stats |>\n",
    "             filter(Year == 1970) |>\n",
    "             select(Year, Investment_Rate)\n",
    "invest_cross2 <- oc_stats |>\n",
    "             filter(Year == 2020) |>\n",
    "             select(Year, Investment_Rate)\n",
    "full_join(invest_cross, invest_cross2)"
   ]
  },
  {
   "cell_type": "code",
   "execution_count": 128,
   "id": "95c5b28f-4603-4baa-a2c6-323c7ba0e5c2",
   "metadata": {},
   "outputs": [
    {
     "data": {
      "text/html": [
       "<style>\n",
       ".dl-inline {width: auto; margin:0; padding: 0}\n",
       ".dl-inline>dt, .dl-inline>dd {float: none; width: auto; display: inline-block}\n",
       ".dl-inline>dt::after {content: \":\\0020\"; padding-right: .5ex}\n",
       ".dl-inline>dt:not(:first-of-type) {padding-left: .5ex}\n",
       "</style><dl class=dl-inline><dt>(Intercept)</dt><dd>47.6468436089849</dd><dt>sqrt(Investment_Rate)</dt><dd>-0.583728038535099</dd></dl>\n"
      ],
      "text/latex": [
       "\\begin{description*}\n",
       "\\item[(Intercept)] 47.6468436089849\n",
       "\\item[sqrt(Investment\\textbackslash{}\\_Rate)] -0.583728038535099\n",
       "\\end{description*}\n"
      ],
      "text/markdown": [
       "(Intercept)\n",
       ":   47.6468436089849sqrt(Investment_Rate)\n",
       ":   -0.583728038535099\n",
       "\n"
      ],
      "text/plain": [
       "          (Intercept) sqrt(Investment_Rate) \n",
       "            47.646844             -0.583728 "
      ]
     },
     "metadata": {},
     "output_type": "display_data"
    },
    {
     "data": {
      "text/plain": [
       "\n",
       "Call:\n",
       "lm(formula = sqrt(Year) ~ sqrt(Investment_Rate), data = oc_stats)\n",
       "\n",
       "Residuals:\n",
       "       1        2        3        4        5        6 \n",
       "-0.08098 -0.02794 -0.10133 -0.15047  0.17974  0.18097 \n",
       "\n",
       "Coefficients:\n",
       "                      Estimate Std. Error t value Pr(>|t|)    \n",
       "(Intercept)            47.6468     1.4345  33.216  4.9e-06 ***\n",
       "sqrt(Investment_Rate)  -0.5837     0.2805  -2.081    0.106    \n",
       "---\n",
       "Signif. codes:  0 ‘***’ 0.001 ‘**’ 0.01 ‘*’ 0.05 ‘.’ 0.1 ‘ ’ 1\n",
       "\n",
       "Residual standard error: 0.1623 on 4 degrees of freedom\n",
       "Multiple R-squared:  0.5198,\tAdjusted R-squared:  0.3998 \n",
       "F-statistic:  4.33 on 1 and 4 DF,  p-value: 0.1059\n"
      ]
     },
     "metadata": {},
     "output_type": "display_data"
    }
   ],
   "source": [
    "cross_lm_model <- lm(sqrt(Year) ~ sqrt(Investment_Rate), data = oc_stats)\n",
    "cross_lm_model$coefficients\n",
    "\n",
    "summary(cross_lm_model)"
   ]
  },
  {
   "cell_type": "code",
   "execution_count": 56,
   "id": "4228a226-e0a0-4240-8755-3fcee85e8406",
   "metadata": {},
   "outputs": [
    {
     "data": {
      "text/html": [
       "<table class=\"dataframe\">\n",
       "<caption>A data.frame: 1 × 1</caption>\n",
       "<thead>\n",
       "\t<tr><th scope=col>Investment_Rate</th></tr>\n",
       "\t<tr><th scope=col>&lt;dbl&gt;</th></tr>\n",
       "</thead>\n",
       "<tbody>\n",
       "\t<tr><td>0.2705</td></tr>\n",
       "</tbody>\n",
       "</table>\n"
      ],
      "text/latex": [
       "A data.frame: 1 × 1\n",
       "\\begin{tabular}{l}\n",
       " Investment\\_Rate\\\\\n",
       " <dbl>\\\\\n",
       "\\hline\n",
       "\t 0.2705\\\\\n",
       "\\end{tabular}\n"
      ],
      "text/markdown": [
       "\n",
       "A data.frame: 1 × 1\n",
       "\n",
       "| Investment_Rate &lt;dbl&gt; |\n",
       "|---|\n",
       "| 0.2705 |\n",
       "\n"
      ],
      "text/plain": [
       "  Investment_Rate\n",
       "1 0.2705         "
      ]
     },
     "metadata": {},
     "output_type": "display_data"
    }
   ],
   "source": [
    "ir_1970 <- oc_stats |>\n",
    "           filter(Year == 1970) |>\n",
    "           select(Investment_Rate)\n",
    "ir_2020 <- oc_stats |>\n",
    "           filter(Year == 2020) |>\n",
    "           select(Investment_Rate)\n",
    "investment_rate_growth <- ((ir_1970 + ir_2020)/2)/100\n",
    "investment_rate_growth"
   ]
  },
  {
   "cell_type": "markdown",
   "id": "1ce679d4-6688-4c67-9d33-57aebe30361a",
   "metadata": {},
   "source": [
    "### Cross-Section Regressions - Imports from China (1970-2020)"
   ]
  },
  {
   "cell_type": "code",
   "execution_count": 129,
   "id": "c9625efc-0724-41d7-9c3d-459015d8f99e",
   "metadata": {},
   "outputs": [
    {
     "name": "stderr",
     "output_type": "stream",
     "text": [
      "\u001b[1m\u001b[22mJoining, by = c(\"Year\", \"China_Imports\")\n"
     ]
    },
    {
     "data": {
      "text/html": [
       "<table class=\"dataframe\">\n",
       "<caption>A tibble: 2 × 2</caption>\n",
       "<thead>\n",
       "\t<tr><th scope=col>Year</th><th scope=col>China_Imports</th></tr>\n",
       "\t<tr><th scope=col>&lt;dbl&gt;</th><th scope=col>&lt;dbl&gt;</th></tr>\n",
       "</thead>\n",
       "<tbody>\n",
       "\t<tr><td>1970</td><td>4.070e+08</td></tr>\n",
       "\t<tr><td>2020</td><td>6.882e+10</td></tr>\n",
       "</tbody>\n",
       "</table>\n"
      ],
      "text/latex": [
       "A tibble: 2 × 2\n",
       "\\begin{tabular}{ll}\n",
       " Year & China\\_Imports\\\\\n",
       " <dbl> & <dbl>\\\\\n",
       "\\hline\n",
       "\t 1970 & 4.070e+08\\\\\n",
       "\t 2020 & 6.882e+10\\\\\n",
       "\\end{tabular}\n"
      ],
      "text/markdown": [
       "\n",
       "A tibble: 2 × 2\n",
       "\n",
       "| Year &lt;dbl&gt; | China_Imports &lt;dbl&gt; |\n",
       "|---|---|\n",
       "| 1970 | 4.070e+08 |\n",
       "| 2020 | 6.882e+10 |\n",
       "\n"
      ],
      "text/plain": [
       "  Year China_Imports\n",
       "1 1970 4.070e+08    \n",
       "2 2020 6.882e+10    "
      ]
     },
     "metadata": {},
     "output_type": "display_data"
    }
   ],
   "source": [
    "cimports_cross <- oc_stats |>\n",
    "             filter(Year == 1970) |>\n",
    "             select(Year, China_Imports)\n",
    "cimports_cross2 <- oc_stats |>\n",
    "             filter(Year == 2020) |>\n",
    "             select(Year, China_Imports)\n",
    "full_join(cimports_cross, cimports_cross2)"
   ]
  },
  {
   "cell_type": "code",
   "execution_count": 130,
   "id": "288174d7-5d8b-47ed-b0ff-df173a3fb90b",
   "metadata": {},
   "outputs": [
    {
     "data": {
      "text/html": [
       "<style>\n",
       ".dl-inline {width: auto; margin:0; padding: 0}\n",
       ".dl-inline>dt, .dl-inline>dd {float: none; width: auto; display: inline-block}\n",
       ".dl-inline>dt::after {content: \":\\0020\"; padding-right: .5ex}\n",
       ".dl-inline>dt:not(:first-of-type) {padding-left: .5ex}\n",
       "</style><dl class=dl-inline><dt>(Intercept)</dt><dd>44.465366408415</dd><dt>sqrt(China_Imports)</dt><dd>1.88380670860482e-06</dd></dl>\n"
      ],
      "text/latex": [
       "\\begin{description*}\n",
       "\\item[(Intercept)] 44.465366408415\n",
       "\\item[sqrt(China\\textbackslash{}\\_Imports)] 1.88380670860482e-06\n",
       "\\end{description*}\n"
      ],
      "text/markdown": [
       "(Intercept)\n",
       ":   44.465366408415sqrt(China_Imports)\n",
       ":   1.88380670860482e-06\n",
       "\n"
      ],
      "text/plain": [
       "        (Intercept) sqrt(China_Imports) \n",
       "       4.446537e+01        1.883807e-06 "
      ]
     },
     "metadata": {},
     "output_type": "display_data"
    },
    {
     "data": {
      "text/plain": [
       "\n",
       "Call:\n",
       "lm(formula = sqrt(Year) ~ sqrt(China_Imports), data = oc_stats)\n",
       "\n",
       "Residuals:\n",
       "       1        2        3        4        5        6 \n",
       "-0.11869 -0.02186  0.05772  0.11885 -0.02088 -0.01515 \n",
       "\n",
       "Coefficients:\n",
       "                     Estimate Std. Error t value Pr(>|t|)    \n",
       "(Intercept)         4.447e+01  5.574e-02 797.675 1.48e-11 ***\n",
       "sqrt(China_Imports) 1.884e-06  3.942e-07   4.779  0.00878 ** \n",
       "---\n",
       "Signif. codes:  0 ‘***’ 0.001 ‘**’ 0.01 ‘*’ 0.05 ‘.’ 0.1 ‘ ’ 1\n",
       "\n",
       "Residual standard error: 0.0904 on 4 degrees of freedom\n",
       "Multiple R-squared:  0.851,\tAdjusted R-squared:  0.8137 \n",
       "F-statistic: 22.84 on 1 and 4 DF,  p-value: 0.008783\n"
      ]
     },
     "metadata": {},
     "output_type": "display_data"
    }
   ],
   "source": [
    "cross_lm_model <- lm(sqrt(Year) ~ sqrt(China_Imports), data = oc_stats)\n",
    "cross_lm_model$coefficients\n",
    "\n",
    "summary(cross_lm_model)"
   ]
  },
  {
   "cell_type": "code",
   "execution_count": 57,
   "id": "05392129-07d5-4645-9a19-94ae3ba1bbb2",
   "metadata": {},
   "outputs": [
    {
     "data": {
      "text/html": [
       "<table class=\"dataframe\">\n",
       "<caption>A data.frame: 1 × 1</caption>\n",
       "<thead>\n",
       "\t<tr><th scope=col>China_Imports</th></tr>\n",
       "\t<tr><th scope=col>&lt;dbl&gt;</th></tr>\n",
       "</thead>\n",
       "<tbody>\n",
       "\t<tr><td>346135000</td></tr>\n",
       "</tbody>\n",
       "</table>\n"
      ],
      "text/latex": [
       "A data.frame: 1 × 1\n",
       "\\begin{tabular}{l}\n",
       " China\\_Imports\\\\\n",
       " <dbl>\\\\\n",
       "\\hline\n",
       "\t 346135000\\\\\n",
       "\\end{tabular}\n"
      ],
      "text/markdown": [
       "\n",
       "A data.frame: 1 × 1\n",
       "\n",
       "| China_Imports &lt;dbl&gt; |\n",
       "|---|\n",
       "| 346135000 |\n",
       "\n"
      ],
      "text/plain": [
       "  China_Imports\n",
       "1 346135000    "
      ]
     },
     "metadata": {},
     "output_type": "display_data"
    }
   ],
   "source": [
    "imports_1970 <- oc_stats |>\n",
    "                filter(Year == 1970) |>\n",
    "                select(China_Imports)\n",
    "imports_2020 <- oc_stats |>\n",
    "                filter(Year == 2020) |>\n",
    "                select(China_Imports)\n",
    "china_imports_growth <- ((imports_1970 + imports_2020)/2)/100\n",
    "china_imports_growth"
   ]
  }
 ],
 "metadata": {
  "kernelspec": {
   "display_name": "R",
   "language": "R",
   "name": "ir"
  },
  "language_info": {
   "codemirror_mode": "r",
   "file_extension": ".r",
   "mimetype": "text/x-r-source",
   "name": "R",
   "pygments_lexer": "r",
   "version": "4.1.3"
  }
 },
 "nbformat": 4,
 "nbformat_minor": 5
}
